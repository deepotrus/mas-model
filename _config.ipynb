{
 "cells": [
  {
   "cell_type": "code",
   "execution_count": null,
   "id": "9fd3fd9c-7881-4899-975e-78ebf54fe7cb",
   "metadata": {},
   "outputs": [],
   "source": [
    "# general packages\n",
    "import random\n",
    "import networkx as nx\n",
    "\n",
    "import numpy as np\n",
    "import pandas as pd\n",
    "\n",
    "import seaborn as sns\n",
    "from matplotlib import pyplot as plt\n",
    "from collections import Counter"
   ]
  },
  {
   "cell_type": "code",
   "execution_count": null,
   "id": "409680b2-53d0-4e79-ba78-c3adccf61910",
   "metadata": {},
   "outputs": [],
   "source": [
    "# Mesa packages\n",
    "import mesa\n",
    "import multilevel_mesa as mlm"
   ]
  }
 ],
 "metadata": {
  "kernelspec": {
   "display_name": "Python 3 (ipykernel)",
   "language": "python",
   "name": "python3"
  },
  "language_info": {
   "codemirror_mode": {
    "name": "ipython",
    "version": 3
   },
   "file_extension": ".py",
   "mimetype": "text/x-python",
   "name": "python",
   "nbconvert_exporter": "python",
   "pygments_lexer": "ipython3",
   "version": "3.10.8"
  }
 },
 "nbformat": 4,
 "nbformat_minor": 5
}
