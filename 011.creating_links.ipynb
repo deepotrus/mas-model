{
 "cells": [
  {
   "cell_type": "markdown",
   "id": "0a8d86be-19ba-4c5a-b280-7f80def744e0",
   "metadata": {},
   "source": [
    "In this notebook we try to influence random traders decisions with neighbors decisions with a probability.  \n",
    "Objectives for this notebook are:\n",
    "* Give the agent the ability to look what others are doing and he can choose to be influeced or not\n",
    "* Give the agent the ability to choose which \"friends\" to remove (Because atm they remove all links from last step and choose new neighbors)\n",
    "* At this point we only need a way to update weights of a trust matrix (still not clear)"
   ]
  },
  {
   "cell_type": "code",
   "execution_count": 8,
   "id": "7f94b2e7-3991-4459-8745-5e934ce639d1",
   "metadata": {},
   "outputs": [],
   "source": [
    "%run _config.ipynb"
   ]
  },
  {
   "cell_type": "code",
   "execution_count": 9,
   "id": "69b47c6f-689e-428b-8451-4d39ea59ac80",
   "metadata": {},
   "outputs": [],
   "source": [
    "def change_Prices(model):\n",
    "    agent_wealth = [agent.wealth for agent in model.schedule.agents]\n",
    "    agent_positions = [agent.position for agent in model.schedule.agents]\n",
    "    agent_orders = [agent.order for agent in model.schedule.agents]\n",
    "    \n",
    "    sbo = 0 # sum buy orders\n",
    "    sso = 0 # sum sell orders\n",
    "    alfa = model.Price * 0.01 # coefficient for price updating\n",
    "    \n",
    "    for i in range(len(agent_positions)):\n",
    "        if agent_positions[i] == 'buy':\n",
    "            sbo += agent_orders[i]\n",
    "        elif agent_positions[i] == 'sell':\n",
    "            sso += agent_orders[i]\n",
    "    \n",
    "    delta = alfa * (sbo - sso)\n",
    "    \n",
    "    model.Last_Price = model.Price\n",
    "    model.Price = model.Price + delta\n",
    "    \n",
    "    return model.Price"
   ]
  },
  {
   "cell_type": "code",
   "execution_count": 10,
   "id": "07db85d3-a2be-47cf-942b-c13199bca454",
   "metadata": {},
   "outputs": [],
   "source": [
    "def get_graphlabels(ordered_dict):\n",
    "    inv_dict = dict(zip(ordered_dict.values(), ordered_dict.keys()))\n",
    "    return inv_dict"
   ]
  },
  {
   "cell_type": "code",
   "execution_count": 11,
   "id": "d3bc5e7b-6bd1-421b-95a5-7316687191ce",
   "metadata": {},
   "outputs": [],
   "source": [
    "def plot_graph(schedule):\n",
    "    G = schedule.net\n",
    "    pos = nx.spring_layout(G)\n",
    "    labels = get_graphlabels(schedule._agents)\n",
    "\n",
    "    plt.figure(figsize=(8, 5))\n",
    "    s = nx.draw_networkx_nodes(\n",
    "        G,\n",
    "        pos,\n",
    "        node_size = 200,\n",
    "        node_color = list(dict(nx.degree(G)).values()),\n",
    "        alpha = 1,\n",
    "        cmap = plt.cm.BuGn\n",
    "    )\n",
    "\n",
    "    nx.draw_networkx_edges(G, pos, alpha=0.5)\n",
    "    nx.draw_networkx_labels(G, pos, labels, font_size=6, bbox=dict(facecolor='white', edgecolor='none', alpha=0.7, pad=0.5))\n",
    "\n",
    "    #show the colorbar on the right side\n",
    "    cbar = plt.colorbar(s)\n",
    "    cbar.ax.set_ylabel('Degree', size=12)\n",
    "\n",
    "    plt.axis('off')\n",
    "    plt.show();"
   ]
  },
  {
   "cell_type": "code",
   "execution_count": 12,
   "id": "49d978a2-7b0c-420d-99bc-e5f69908f79e",
   "metadata": {},
   "outputs": [],
   "source": [
    "def sample_from_dict(dic, n):\n",
    "    keys = random.sample(list(dic), n)\n",
    "    return {k: dic[k] for k in keys}"
   ]
  },
  {
   "cell_type": "code",
   "execution_count": 13,
   "id": "39020b71-7ffd-4b8f-93fc-fb0955585b7d",
   "metadata": {},
   "outputs": [],
   "source": [
    "def get_neighbors(dict_agents, agent_id):\n",
    "    dict_agents.pop(agent_id, None) # always exclude himself from the list before taking the sample\n",
    "    return sample_from_dict(dict_agents, 1) # take a sample of 1 agent"
   ]
  },
  {
   "cell_type": "code",
   "execution_count": 14,
   "id": "db7be7d2-3e0c-4cb1-b566-baf3b19e818d",
   "metadata": {},
   "outputs": [],
   "source": [
    "def make_links(dict_neighbors, self_node):\n",
    "    node_neighbors = dict_neighbors.values() # e.g. [<__main__.Agent object at 0x7f64f5ca7910>, <__main__.Agent object at 0x7f64f3ca8110>]\n",
    "    \n",
    "    tuple_links = list()\n",
    "    for neighbour_node in node_neighbors:\n",
    "        tuple_links.append((self_node, neighbour_node))\n",
    "    \n",
    "    return tuple_links"
   ]
  },
  {
   "cell_type": "code",
   "execution_count": 15,
   "id": "a93b9e81-2bce-4c0e-881f-fde646f0f078",
   "metadata": {},
   "outputs": [],
   "source": [
    "def remember_linked_neighbors(G, node_id):\n",
    "    return G.edges(node_id)"
   ]
  },
  {
   "cell_type": "code",
   "execution_count": 16,
   "id": "6238abb2-b992-4685-b7ea-ff403fb9a5d9",
   "metadata": {},
   "outputs": [],
   "source": [
    "from collections import Counter # agent is now able to count from 1 to 10\n",
    "\n",
    "def check_socials(friends_list):\n",
    "    friends_positions = [ friend.position for friend in friends_list ]\n",
    "    dic = Counter(friends_positions)\n",
    "    \n",
    "    max_key = max(dic, key = dic.get)\n",
    "    return max_key # we return influence when using also the trust matrix"
   ]
  },
  {
   "cell_type": "code",
   "execution_count": 17,
   "id": "2afb0eca-a2b8-4906-a786-b791be7bd2d9",
   "metadata": {},
   "outputs": [],
   "source": [
    "from collections import Counter # agent is now able to count from 1 to 10\n",
    "\n",
    "def check_socials_positions(friends_positions):\n",
    "    dic = Counter(friends_positions)\n",
    "    \n",
    "    max_key = max(dic, key = dic.get) # get key of the max value\n",
    "    return max_key # we return influence when using also the trust matrix"
   ]
  },
  {
   "cell_type": "code",
   "execution_count": 18,
   "id": "d9a1b8a4-556b-4f9c-9946-1ae37a3f1808",
   "metadata": {},
   "outputs": [
    {
     "data": {
      "text/plain": [
       "'null'"
      ]
     },
     "execution_count": 18,
     "metadata": {},
     "output_type": "execute_result"
    }
   ],
   "source": [
    "friends_positions = ['null', 'buy', 'null', 'buy']\n",
    "influence = check_socials_positions(friends_positions)\n",
    "influence"
   ]
  },
  {
   "cell_type": "code",
   "execution_count": 19,
   "id": "8d82b92c-1272-4d87-8cf5-e09b52328fcc",
   "metadata": {},
   "outputs": [],
   "source": [
    "class Agent_Rnd_Trader(mesa.Agent):\n",
    "    def __init__(self, unique_id, model, wealth, position, order):\n",
    "        super().__init__(unique_id, model)\n",
    "        \n",
    "        self.type = 'random'\n",
    "        self.unique_id = unique_id\n",
    "        self.node_id = None\n",
    "        \n",
    "        # DOF Agent\n",
    "        self.wealth = round(wealth * ( 1. + 0.1 * random.uniform(-1, 1) ), 2) # cash\n",
    "        self.position = position # initial position, buy or sell\n",
    "        self.order = order # quantities ordered\n",
    "        \n",
    "        self.neighbors = dict()\n",
    "        self.influence = list()\n",
    "        #printing init stats\n",
    "        #print(f'{unique_id}: \\t $ {round(self.wealth, 2)}')\n",
    "        \n",
    "    def _see(self):\n",
    "        self.Price = model.Price\n",
    "        self.node_id = self.model.schedule._agents[self.unique_id]\n",
    "        \n",
    "        self.linked_neighbors = remember_linked_neighbors(self.model.schedule.net.copy(), self.node_id) # for un-linking\n",
    "        self.neighbors = get_neighbors(self.model.schedule._agents.copy(), self.unique_id) # for linking\n",
    "        \n",
    "    def _next(self):\n",
    "        # make new links based on random neighbors\n",
    "        self.model.schedule.net.remove_edges_from(self.linked_neighbors) # Rimuovi Amicizia\n",
    "        self.model.schedule.net.add_edges_from(make_links(self.neighbors, self.node_id)) # Aggiungi Amico\n",
    "        \n",
    "        # Let the agent know what others are doing, so he can be influeced by it or not\n",
    "        #print(f'Me, agent {self.unique_id}, see that these are my friends: {self.neighbors.values()} with position {[el.position for el in list(self.neighbors.values())]}')\n",
    "        \n",
    "        self.influence = check_socials(list(self.neighbors.values())) # Check his friends activity, there may be friends who still didn't open any position, and some who did\n",
    "        \n",
    "    def _action(self):\n",
    "        if random.uniform(0, 1) < 0.5: # Agent chooses to be influeced\n",
    "            self.position = self.influence\n",
    "            self.order = 1\n",
    "        else:\n",
    "            self.rnd_trade()\n",
    "            \n",
    "    # Random Trader Functions\n",
    "    def rnd_trade(self):\n",
    "        if random.uniform(0,1) < 0.5:\n",
    "            self.position = 'buy'\n",
    "            self.order = 1 #randomize also this later\n",
    "        else:\n",
    "            self.position = 'sell'\n",
    "            self.order = 1\n",
    "            \n",
    "        self.wealth = self.wealth - self.order * self.Price\n",
    "        \n",
    "    # Step Function for random trader agent\n",
    "    def step(self):\n",
    "        self.wealth += 1\n",
    "        \n",
    "        self._see()\n",
    "        self._next()\n",
    "        self._action()"
   ]
  },
  {
   "cell_type": "code",
   "execution_count": 20,
   "id": "18e77f9c-5bb7-4d58-be1a-dbba00bdefca",
   "metadata": {},
   "outputs": [],
   "source": [
    "class Market_Model(mesa.Model):\n",
    "    def __init__(self, N_agents, Price):\n",
    "        \n",
    "        # Environment Settings\n",
    "        self.schedule = mlm.MultiLevel_Mesa(self, group_to_net = True)\n",
    "        \n",
    "        # Model Parameters\n",
    "        self.Price = Price; self.Last_Price = self.Price\n",
    "        self.N_agents = N_agents\n",
    "        \n",
    "        # Create Random Traders\n",
    "        N_rnd_traders = N_agents\n",
    "        wealth = 400; position = 'null'; order = 0\n",
    "        \n",
    "        for a in range(N_rnd_traders):\n",
    "            unique_id = f'rnd_trader_{a}'\n",
    "            ag = Agent_Rnd_Trader(\n",
    "                unique_id,\n",
    "                self,\n",
    "                wealth, position, order\n",
    "            )\n",
    "            self.schedule.add(ag)\n",
    "        \n",
    "        self.datacollector = mesa.datacollection.DataCollector(\n",
    "            model_reporters = {'Price': change_Prices},\n",
    "            agent_reporters = {\n",
    "                'wealth': 'wealth',\n",
    "                'position': 'position',\n",
    "                'order': 'order'\n",
    "            }\n",
    "        )\n",
    "        \n",
    "    def step(self): \n",
    "        for i in range(self.N_agents): # Before the day starts reset all positions to null\n",
    "            vars(self.schedule.agents[i])['position'] = 'null'\n",
    "                \n",
    "        #step the groups and agents\n",
    "        self.schedule.step()\n",
    "        \n",
    "        #plot_graph(self.schedule)\n",
    "        \n",
    "        # Collect data at that timestep\n",
    "        self.datacollector.collect(self)"
   ]
  },
  {
   "cell_type": "code",
   "execution_count": 21,
   "id": "7da66c9d-d1b7-4f7a-aea8-f0d604ecbabc",
   "metadata": {},
   "outputs": [],
   "source": [
    "random.seed(42)\n",
    "\n",
    "for run in range(1):\n",
    "    model = Market_Model(N_agents = 50, Price = 10)\n",
    "    \n",
    "    N_steps = 1565\n",
    "    for step in range(N_steps):\n",
    "        #print(f'\\n\\nStep: {step}')\n",
    "        model.step()"
   ]
  },
  {
   "cell_type": "code",
   "execution_count": 22,
   "id": "8583a043-16f9-4165-91eb-300474907327",
   "metadata": {},
   "outputs": [],
   "source": [
    "agent_vars = model.datacollector.get_agent_vars_dataframe()\n",
    "model_vars = model.datacollector.get_model_vars_dataframe()"
   ]
  },
  {
   "cell_type": "code",
   "execution_count": 23,
   "id": "f72c3a40-ed49-4fe5-b59a-3f63d6ef78ab",
   "metadata": {},
   "outputs": [
    {
     "data": {
      "image/png": "[encoded data removed]",
      "text/plain": [
       "<Figure size 640x480 with 1 Axes>"
      ]
     },
     "metadata": {},
     "output_type": "display_data"
    }
   ],
   "source": [
    "model_vars.plot();\n",
    "plt.yscale('log');"
   ]
  },
  {
   "cell_type": "code",
   "execution_count": 482,
   "id": "2b79e88a-cf01-4e7c-8682-135d297802c9",
   "metadata": {},
   "outputs": [],
   "source": [
    "model_vars.to_csv('model_vars.csv')"
   ]
  },
  {
   "cell_type": "markdown",
   "id": "298bb4ad-dc43-4f73-8091-2aa34f4f873a",
   "metadata": {},
   "source": [
    "We checked:\n",
    "* Random activation is godlike, each step agents activate in a different order everytime.\n",
    "* Each agent can see its neighbors positions and be influeced, atm no trust matrix but all weights are 1.\n",
    "* At the beginning of each model step all agents positions are set to 'null'.\n",
    "* Reduced computational complexity by returning influenced only as a position (geniuz) and solved the bug of market trend depending on algorythm position of if else."
   ]
  },
  {
   "cell_type": "code",
   "execution_count": null,
   "id": "0e32b9f7-83ce-4449-9f2b-d88437664649",
   "metadata": {},
   "outputs": [],
   "source": []
  }
 ],
 "metadata": {
  "kernelspec": {
   "display_name": "Python 3 (ipykernel)",
   "language": "python",
   "name": "python3"
  },
  "language_info": {
   "codemirror_mode": {
    "name": "ipython",
    "version": 3
   },
   "file_extension": ".py",
   "mimetype": "text/x-python",
   "name": "python",
   "nbconvert_exporter": "python",
   "pygments_lexer": "ipython3",
   "version": "3.10.8"
  }
 },
 "nbformat": 4,
 "nbformat_minor": 5
}
